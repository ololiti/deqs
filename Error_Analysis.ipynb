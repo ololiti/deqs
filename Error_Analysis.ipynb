{
 "cells": [
  {
   "cell_type": "code",
   "execution_count": 1,
   "id": "efbc86b2",
   "metadata": {},
   "outputs": [],
   "source": [
    "import torch\n",
    "from torch.utils.data import DataLoader\n",
    "from generate_data import generate_test_data, decoder\n",
    "import deqmodel\n",
    "import basemodel"
   ]
  },
  {
   "cell_type": "code",
   "execution_count": 2,
   "id": "0782aa3f",
   "metadata": {},
   "outputs": [],
   "source": [
    "device = \"cuda\" if torch.cuda.is_available() else \"cpu\""
   ]
  },
  {
   "cell_type": "code",
   "execution_count": 3,
   "id": "4e7f6bc0",
   "metadata": {},
   "outputs": [],
   "source": [
    "data = generate_test_data()\n",
    "mydataloader = DataLoader(data, batch_size=len(data))\n",
    "for feats, labels in mydataloader:\n",
    "    X = feats.to(device).float()\n",
    "    y = labels.to(device).float()"
   ]
  },
  {
   "cell_type": "code",
   "execution_count": 6,
   "id": "54ff4bc2",
   "metadata": {},
   "outputs": [],
   "source": [
    "base_state = torch.load('basemodel.pth')\n",
    "base = basemodel.NeuralNetwork().to(basemodel.device)\n",
    "base.load_state_dict(base_state)\n",
    "base.eval()\n",
    "with torch.no_grad():\n",
    "    pred, hidden = base(X)"
   ]
  },
  {
   "cell_type": "code",
   "execution_count": 8,
   "id": "631c1ff9",
   "metadata": {},
   "outputs": [],
   "source": [
    "bool_arr = pred > 0\n",
    "prediction = torch.Tensor([1 if x else 0 for x in bool_arr]).to(device)\n"
   ]
  },
  {
   "cell_type": "code",
   "execution_count": 9,
   "id": "5d8b49be",
   "metadata": {},
   "outputs": [],
   "source": [
    "def stats(X, y, pred):\n",
    "    tp, tn, fp, fn = 0, 0, 0, 0\n",
    "    fp_expr, fn_expr = [], []\n",
    "    for i in range(len(y)):\n",
    "        if pred[i] == 1:\n",
    "            if pred[i] == y[i]:\n",
    "                tp += 1\n",
    "            else:\n",
    "                fp += 1\n",
    "                fp_expr.append(decoder(X[i]))\n",
    "        else:\n",
    "            if pred[i] == y[i]:\n",
    "                tn += 1\n",
    "            else:\n",
    "                fn += 1\n",
    "                fn_expr.append(decoder(X[i]))\n",
    "    return tp, tn, fp, fn, fp_expr, fn_expr"
   ]
  },
  {
   "cell_type": "code",
   "execution_count": 17,
   "id": "2f16977b",
   "metadata": {},
   "outputs": [
    {
     "name": "stdout",
     "output_type": "stream",
     "text": [
      "184 918\n"
     ]
    }
   ],
   "source": [
    "tp, tn, fp, fn, fpx, fnx = stats(X, y, prediction)\n",
    "print(fp, fn)"
   ]
  },
  {
   "cell_type": "code",
   "execution_count": 18,
   "id": "74961353",
   "metadata": {},
   "outputs": [
    {
     "name": "stderr",
     "output_type": "stream",
     "text": [
      "/home/ryanl/gcloud/deqs/deqmodel.py:66: UserWarning: torch.solve is deprecated in favor of torch.linalg.solveand will be removed in a future PyTorch release.\n",
      "torch.linalg.solve has its arguments reversed and does not return the LU factorization.\n",
      "To get the LU factorization see torch.lu, which can be used with torch.lu_solve or torch.lu_unpack.\n",
      "X = torch.solve(B, A).solution\n",
      "should be replaced with\n",
      "X = torch.linalg.solve(A, B) (Triggered internally at  /opt/conda/conda-bld/pytorch_1646755903507/work/aten/src/ATen/native/BatchLinearAlgebra.cpp:859.)\n",
      "  alpha = torch.solve(y[:, :n + 1], H[:, :n + 1, :n + 1])[0][:, 1:n + 1, 0]  # (bsz x n)\n"
     ]
    }
   ],
   "source": [
    "deq_state = torch.load('deqmodel.pth')\n",
    "deq = deqmodel.NeuralNetwork().to(deqmodel.device)\n",
    "deq.load_state_dict(deq_state)\n",
    "deq.eval()\n",
    "with torch.no_grad():\n",
    "    pred = deq(X)"
   ]
  },
  {
   "cell_type": "code",
   "execution_count": 20,
   "id": "c2719111",
   "metadata": {},
   "outputs": [
    {
     "name": "stdout",
     "output_type": "stream",
     "text": [
      "182 412\n"
     ]
    }
   ],
   "source": [
    "bool_arr = pred > 0\n",
    "prediction = torch.Tensor([1 if x else 0 for x in bool_arr]).to(device)\n",
    "tp, tn, fp, fn, fpx, fnx = stats(X, y, prediction)\n",
    "print(fp, fn)"
   ]
  },
  {
   "cell_type": "code",
   "execution_count": null,
   "id": "5890eb1c",
   "metadata": {},
   "outputs": [],
   "source": []
  }
 ],
 "metadata": {
  "kernelspec": {
   "display_name": "Python [conda env:py38]",
   "language": "python",
   "name": "conda-env-py38-py"
  },
  "language_info": {
   "codemirror_mode": {
    "name": "ipython",
    "version": 3
   },
   "file_extension": ".py",
   "mimetype": "text/x-python",
   "name": "python",
   "nbconvert_exporter": "python",
   "pygments_lexer": "ipython3",
   "version": "3.8.13"
  }
 },
 "nbformat": 4,
 "nbformat_minor": 5
}
