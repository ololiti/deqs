{
  "cells": [
    {
      "cell_type": "code",
      "execution_count": 31,
      "id": "efbc86b2",
      "metadata": {
        "id": "efbc86b2"
      },
      "outputs": [],
      "source": [
        "import torch\n",
        "import numpy as np\n",
        "from torch.utils.data import DataLoader\n",
        "import deqmodel\n",
        "import basemodel\n",
        "import repeatedmodel\n",
        "from generate_data import generate_test_data, decoder, generate_biased_data\n",
        "import seaborn as sns\n",
        "import numpy as np\n",
        "import matplotlib.pyplot as plt"
      ]
    },
    {
      "cell_type": "code",
      "execution_count": 2,
      "id": "0782aa3f",
      "metadata": {
        "id": "0782aa3f"
      },
      "outputs": [],
      "source": [
        "device = \"cuda\" if torch.cuda.is_available() else \"cpu\""
      ]
    },
    {
      "cell_type": "code",
      "execution_count": 3,
      "id": "4e7f6bc0",
      "metadata": {
        "id": "4e7f6bc0"
      },
      "outputs": [],
      "source": [
        "data = generate_test_data()\n",
        "mydataloader = DataLoader(data, batch_size=len(data))\n",
        "for feats, labels in mydataloader:\n",
        "    X = feats.to(device).float()\n",
        "    y = labels.to(device).float()"
      ]
    },
    {
      "cell_type": "code",
      "execution_count": 4,
      "id": "54ff4bc2",
      "metadata": {
        "id": "54ff4bc2"
      },
      "outputs": [],
      "source": [
        "base_state = torch.load('basemodel_exp2.pth')\n",
        "base = basemodel.NeuralNetwork().to(basemodel.device)\n",
        "base.load_state_dict(base_state)\n",
        "base.eval()\n",
        "with torch.no_grad():\n",
        "    pred, hidden = base(X)"
      ]
    },
    {
      "cell_type": "code",
      "execution_count": 5,
      "id": "631c1ff9",
      "metadata": {
        "id": "631c1ff9"
      },
      "outputs": [],
      "source": [
        "bool_arr = pred > 0\n",
        "prediction = torch.Tensor([1 if x else 0 for x in bool_arr]).to(device)\n"
      ]
    },
    {
      "cell_type": "code",
      "execution_count": 10,
      "id": "5d8b49be",
      "metadata": {
        "id": "5d8b49be"
      },
      "outputs": [],
      "source": [
        "def stats(X, y, pred):\n",
        "    tp, tn, fp, fn = 0, 0, 0, 0\n",
        "    fp_expr, fn_expr = [], []\n",
        "    for i in range(len(y)):\n",
        "        if pred[i] == 1:\n",
        "            if pred[i] == y[i]:\n",
        "                tp += 1\n",
        "            else:\n",
        "                fp += 1\n",
        "                fp_expr.append(decoder(X[i]))\n",
        "        else:\n",
        "            if pred[i] == y[i]:\n",
        "                tn += 1\n",
        "            else:\n",
        "                fn += 1\n",
        "                fn_expr.append(decoder(X[i]))\n",
        "    cf_matrix = np.array([[tn, fp], [fn, tp]])\n",
        "    return cf_matrix, fp_expr, fn_expr"
      ]
    },
    {
      "cell_type": "code",
      "source": [
        "def getStats(modeltype, data):\n",
        "    \n",
        "    mydataloader = DataLoader(data, batch_size=len(data))\n",
        "    for feats, labels in mydataloader:\n",
        "        X = feats.to(device).float()\n",
        "        y = labels.to(device).float()\n",
        "    name = modeltype.__name__\n",
        "    state = torch.load(f\"{name}_exp2.pth\")\n",
        "    if 'basemodel' in name:\n",
        "        print('this works')\n",
        "        model = basemodel.NeuralNetwork().to(modeltype.device)\n",
        "        model.load_state_dict(state)\n",
        "        model.eval()\n",
        "        with torch.no_grad():\n",
        "            pred, hidden = model(X)\n",
        "    elif 'repeatedmodel' in name:\n",
        "        model = repeatedmodel.NeuralNetwork().to(modeltype.device)\n",
        "        model.load_state_dict(state)\n",
        "        model.eval()\n",
        "        with torch.no_grad():\n",
        "            pred, hidden = model(X)\n",
        "    elif 'deqmodel' in name:\n",
        "        model = deqmodel.NeuralNetwork().to(modeltype.device)\n",
        "        model.load_state_dict(state)\n",
        "        model.eval()\n",
        "        with torch.no_grad():\n",
        "            pred = model(X)\n",
        "        \n",
        "               \n",
        "    bool_arr = pred > 0\n",
        "    prediction = torch.Tensor([1 if x else 0 for x in bool_arr]).to(device)\n",
        "    return stats(X,y, prediction)"
      ],
      "metadata": {
        "id": "o5yAFFoemtbC"
      },
      "id": "o5yAFFoemtbC",
      "execution_count": 23,
      "outputs": []
    },
    {
      "cell_type": "code",
      "source": [
        "# cf_matrix, fpx, fnx = getStats(repeatedmodel, data)\n",
        "cf_matrix1, fpx1, fnx1 = getStats(basemodel, data)\n",
        "cf_matrix2, fpx2, fnx2 = getStats(deqmodel, data)"
      ],
      "metadata": {
        "colab": {
          "base_uri": "https://localhost:8080/"
        },
        "id": "mLFHVYIinAV4",
        "outputId": "17275d0b-ae9b-4b5d-bc7b-4452a5c7b431"
      },
      "id": "mLFHVYIinAV4",
      "execution_count": 26,
      "outputs": [
        {
          "output_type": "stream",
          "name": "stdout",
          "text": [
            "this works\n"
          ]
        }
      ]
    },
    {
      "cell_type": "code",
      "source": [
        "fpx2"
      ],
      "metadata": {
        "colab": {
          "base_uri": "https://localhost:8080/"
        },
        "id": "k9P7XXHbuM9M",
        "outputId": "d89ae511-182c-4288-ce3f-5beec4a9a0b1"
      },
      "id": "k9P7XXHbuM9M",
      "execution_count": 49,
      "outputs": [
        {
          "output_type": "execute_result",
          "data": {
            "text/plain": [
              "['(((((4-5))))+1-2+(9-4+8)-3-6-3)',\n",
              " '6+9+2+5-8+(1-6-(1-6))+4+8-9-9-8',\n",
              " '(((4+6-5+1-(2-7-(((2-9-4)))))))',\n",
              " '6-(((((((((1-2+(6+5-1))))))))))',\n",
              " '(9+7+2-6-4-8+8+2-3+(6-3)+3-6-7)',\n",
              " '6-((((7-1)-7+(2+6)-(5-5)-7+9)))',\n",
              " '(((8-2+3-1))+(7-2-9)-3-3+(7-5))',\n",
              " '(4+2-(((((2+7)-(6+(2-8+1)))))))',\n",
              " '(7+9)-3+9-(3+1+2+6-3-2)-(9-2+9)',\n",
              " '(4-4+4)-8-5+7+6-1-(1+7)+(3-4+6)',\n",
              " '1-2-(2+2)+5+6+(3+1)+(3-6+8-7-8)',\n",
              " '(((9-2)))-7+7+6+2-(4+8+4)-8+4+5',\n",
              " '6-1+2-((6+8+9+4))+6+8-9+4+9-6+8',\n",
              " '(((6-9-((6-9)))+2-4+6-4-1-2+1))',\n",
              " '6-2-4-8+5+8+4-4-4-6-2-2-4+7+2+4',\n",
              " '((8-9+(4-8)-3+9-7+6))+(9-3)+1-7',\n",
              " '(9+4+(2-5-4)+4-3-9+2+5-4-1+7-7)',\n",
              " '(((8+9-6-(9+2)-(4-(4+3))))+2-5)',\n",
              " '1+((5-1+3+(1+8-8)))-6-2+8+2-6-6',\n",
              " '6+9+1+7-5+4+5+3-7+1-4-2+1-3-8-8',\n",
              " '((((6-4+5)-5-6+4+9)+(3-9)+3-6))',\n",
              " '((5-9+4+(6+6+1-3+(1+4-1)-8-6)))',\n",
              " '((1-7))+7+(8+9-9+(((1+1)))-9-3)',\n",
              " '9+(((((9-8)-3+5+6))-1-2))-7-1-7',\n",
              " '(6+2+1)-5+(3-5)-3+9+1-1-4-(7-3)',\n",
              " '4-2+(3-5-5-5-9-3+7)+3+8+4-2-3+4',\n",
              " '(7-5+(5+6)-5+1-(1+4)-2+8+3-4-9)',\n",
              " '((((((2-1)+((((9-9-4+3)))))))))',\n",
              " '(7-6)+5-5+8+1-6-7-3+6+8-9+6+3-9',\n",
              " '9+6+2-2-((5+5)+1+3-((4-1))+5-1)',\n",
              " '(3-4+9-8+1+7-1-5+1-8+((5+8-9)))',\n",
              " '4+9-(9-5+1+5+((5-6)))-(2+(8+9))',\n",
              " '((4-((7-3+8+6+2)+8+7)+9+8+8+2))',\n",
              " '(((4-(5-(8+6-8-4+(5-4)-5-4)))))',\n",
              " '((8+4+9))-5-3+(1-4-7+6)-(5+3+1)',\n",
              " '((((8-8-7+1+3)-3+4-1+5))-5-3+4)',\n",
              " '(7-6+9+4)+((((9+5-9-2-5))))-7-5',\n",
              " '(((((((5-8)))))+(9+6+1)-5-4-4))',\n",
              " '8-6+5-2-6+(((5-1)))-7+8+7-8-4+1',\n",
              " '9-5+4-(2+4)+(1+6)-(8+5-9)-3-3+1',\n",
              " '(((5-4+1+3+3-2))-2+5-1+(5-6-7))',\n",
              " '((((4+7-(6+8)+3+3)))+(((5-8))))',\n",
              " '(1-5+(5-3))-1+3+1+3+7-9-2-7+2+3',\n",
              " '(((((1+8)-8-1+5)+((2-6+1-3)))))',\n",
              " '(9-1+2-4-7)+(((6-5)+8+7-7-2-6))',\n",
              " '(8-7)+((2+1-4)+6-4-8-1+2+(1+3))',\n",
              " '(6-8+8+5+4-9+(3-6)-1-1+9+5-8-8)',\n",
              " '9+5+2-2+2-5-3+5-(5+5)-4+3+4+1-8',\n",
              " '2-(7-3)+((9+9-5+2))-2-7+9-8-7+2',\n",
              " '(6+8+6-9+(3-8)-1+2+1-2-6-2-1+3)',\n",
              " '7+(((6+((((6+9)))))-9-6-8-4-2))',\n",
              " '6-(6-(((1-6+9-3-1)))-4-2+9)+4-1',\n",
              " '3-3+5+(((4+1-6-4))+5-2-7+9)-3-2',\n",
              " '4-7-9+7+5+6+1+8-1-2-2-(4+5)-5+4',\n",
              " '6-1+(4-7+4)-(4-2-4-((4-9)-8+2))',\n",
              " '9+(3-1-(5-5)-2-5-4-9+3-1+1)-1+6',\n",
              " '1-2+9+8-3+5-3+(6+5)-8-(9-5)-6-9',\n",
              " '1-7+8-6+(5+1)+(8-(3+8)+1-1+4-3)',\n",
              " '(((3+6-3-9-1+2)))+(7-5)-7-2+3+5',\n",
              " '(((3+5+8-2))-(5-3+5+6+5)+(9-5))',\n",
              " '7+2+5-2-7-(3-5+9-(8-(4+9+2-7)))',\n",
              " '(((1+1+7-5+6-3))-5-8+1+7)-(3-1)',\n",
              " '(((((((5+5-5)-9-8+(7-2+7)))))))',\n",
              " '(((((9+4))+(8-9)-4-2+(4-7-4))))',\n",
              " '((3-8-(3+2+4-1-7)-6+4+2+8-7+5))',\n",
              " '((((4-((2-((5+6-1-9-1-2))))))))',\n",
              " '(5+4+9-8+4-5+(((4-6-6+2+5-9))))',\n",
              " '(7-9-4)-3+6+7+(5-6+3-8)+1+7+1-8',\n",
              " '((2-5+6+2+3+5-5+3))-4+6-(5+5+3)',\n",
              " '(8-6+1-7-5-8+5+7+3+5+6-6-8-4+8)',\n",
              " '(7+3-3-3-1+(3-3-5+3-7+2)-9+5+7)',\n",
              " '(3-7-1+1-1-4-2+6+8+4-1-8-2+2+2)',\n",
              " '(6+8)+((2+9))-(3+6-6+3+1+6+9+9)',\n",
              " '7+((1-7))-5+(((9-(9-5+4))))+1+1',\n",
              " '9-3+(6+(2+4)+(1-9+2-1))+6-7-7-5',\n",
              " '(((((7-8-4-9+4))+7+6+3-7)+7-7))',\n",
              " '((2+(1-3+6)))-3+5-4+8-7-7+3+8-9',\n",
              " '((((((1+9+3-((3+7))))-5+6-4))))',\n",
              " '8+8-(((9+2-(8-9)+2-4+7+1+2+4)))',\n",
              " '(5-9)+3-9+5+9+7+((4-7+9-9-3-7))',\n",
              " '8+1+((((6+5))+((((1-5))))))-8-8',\n",
              " '(2+9+7-3-8-8)+((3+7)-6-3)-(6-5)',\n",
              " '((6+3+6+7-(7-6)))-8-7+(3-5-2-2)',\n",
              " '((5+1+1+1-6-8-7)+(5+3+1+5)+7-8)',\n",
              " '((((6+5-5-2)+7-6-8-1+9-3)+3-6))',\n",
              " '((8-2+9-2-1-(7+7+6+6-5-9+1-1)))',\n",
              " '(8-9+8-5+((2+6))-(4+2)-3-3-7+8)',\n",
              " '(9-7+2)+8+9-9-1-4-4-(4-3+9+2-7)',\n",
              " '((9-9+(7+1)+6-7-9-9+4-3-5+4+9))']"
            ]
          },
          "metadata": {},
          "execution_count": 49
        }
      ]
    },
    {
      "cell_type": "code",
      "source": [
        "def getMetric(cf):\n",
        "    precision = cf[1,1]/(cf[1,1] + cf[0,1])\n",
        "    recall = cf[1,1]/(cf[1,1] + cf[1,0])\n",
        "    return precision, recall\n",
        "def plot_confusion_matrix(cf_matrix, title):\n",
        "    ax = sns.heatmap(cf_matrix, annot=True, cmap='Blues')\n",
        "    sns.set(font_scale=1.25)\n",
        "    ax.set_title(title);\n",
        "    ax.set_xlabel('Predicted Values')\n",
        "    ax.set_ylabel('Actual Values ');\n",
        "\n",
        "    ## Ticket labels - List must be in alphabetical order\n",
        "    ax.xaxis.set_ticklabels(['False','True'])\n",
        "    ax.yaxis.set_ticklabels(['False','True'])\n",
        "\n",
        "    ## Display the visualization of the Confusion Matrix.\n",
        "    plt.show()"
      ],
      "metadata": {
        "id": "Y_2MJIm5oKYO"
      },
      "id": "Y_2MJIm5oKYO",
      "execution_count": 44,
      "outputs": []
    },
    {
      "cell_type": "code",
      "source": [
        "plot_confusion_matrix(cf_matrix1, \"Base Model Confusion Matrix\")\n",
        "precision, recall = getMetric(cf_matrix1)\n",
        "print(precision, recall)"
      ],
      "metadata": {
        "colab": {
          "base_uri": "https://localhost:8080/",
          "height": 326
        },
        "id": "5qr2C2mwoM7-",
        "outputId": "04f98892-aa00-44f1-d255-e9d7449bbc21"
      },
      "id": "5qr2C2mwoM7-",
      "execution_count": 45,
      "outputs": [
        {
          "output_type": "display_data",
          "data": {
            "text/plain": [
              "<Figure size 432x288 with 2 Axes>"
            ],
            "image/png": "[encoded data removed]"
          },
          "metadata": {}
        },
        {
          "output_type": "stream",
          "name": "stdout",
          "text": [
            "0.9731363331094695 0.9602385685884692\n"
          ]
        }
      ]
    },
    {
      "cell_type": "code",
      "source": [
        "plot_confusion_matrix(cf_matrix2, \"DEQ Confusion Matrix\")\n",
        "precision, recall = getMetric(cf_matrix2)\n",
        "print(precision, recall)"
      ],
      "metadata": {
        "colab": {
          "base_uri": "https://localhost:8080/",
          "height": 326
        },
        "id": "ELXFOW7Joruh",
        "outputId": "afd4b2cf-d1a2-4042-dd4e-cd04c2e9ea25"
      },
      "id": "ELXFOW7Joruh",
      "execution_count": 46,
      "outputs": [
        {
          "output_type": "display_data",
          "data": {
            "text/plain": [
              "<Figure size 432x288 with 2 Axes>"
            ],
            "image/png": "[encoded data removed]"
          },
          "metadata": {}
        },
        {
          "output_type": "stream",
          "name": "stdout",
          "text": [
            "0.970568783068783 0.9724983432736912\n"
          ]
        }
      ]
    },
    {
      "cell_type": "code",
      "execution_count": null,
      "id": "5890eb1c",
      "metadata": {
        "id": "5890eb1c"
      },
      "outputs": [],
      "source": [
        ""
      ]
    }
  ],
  "metadata": {
    "kernelspec": {
      "display_name": "Python [conda env:py38]",
      "language": "python",
      "name": "conda-env-py38-py"
    },
    "language_info": {
      "codemirror_mode": {
        "name": "ipython",
        "version": 3
      },
      "file_extension": ".py",
      "mimetype": "text/x-python",
      "name": "python",
      "nbconvert_exporter": "python",
      "pygments_lexer": "ipython3",
      "version": "3.8.13"
    },
    "colab": {
      "name": "Error_Analysis.ipynb",
      "provenance": []
    }
  },
  "nbformat": 4,
  "nbformat_minor": 5
}