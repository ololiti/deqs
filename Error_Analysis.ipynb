{
 "cells": [
  {
   "cell_type": "code",
   "execution_count": 4,
   "id": "efbc86b2",
   "metadata": {},
   "outputs": [],
   "source": [
    "import torch\n",
    "from torch.utils.data import DataLoader\n",
    "from generate_data import generate_test_data, decoder, generate_biased_data\n",
    "import deqmodel\n",
    "import basemodel\n",
    "import naivemodel\n",
    "import seaborn as sns\n",
    "import numpy as np\n",
    "import matplotlib.pyplot as plt"
   ]
  },
  {
   "cell_type": "code",
   "execution_count": 5,
   "id": "0782aa3f",
   "metadata": {},
   "outputs": [],
   "source": [
    "device = \"cuda\" if torch.cuda.is_available() else \"cpu\""
   ]
  },
  {
   "cell_type": "code",
   "execution_count": 6,
   "id": "4e7f6bc0",
   "metadata": {},
   "outputs": [
    {
     "name": "stdout",
     "output_type": "stream",
     "text": [
      "((3/2*3/2-4*7-3))*(((8/3)-3+1))\n",
      "((1-8*((1-6-3-8/9)-2-3/(2-8))))\n",
      "7-4-6-4*3-4-8*(3-2)-(9*9+6-5*9)\n",
      "((7-1-2+8-(8-6)-6-1-2/3*(5-6)))\n",
      "((9-6))*(((7-2*5)))/(9*5-1/7-8)\n",
      "(((((1+3))))-9-7-(9+8*8/6-2-8))\n",
      "((((8/9)))/(1/7)+((1+3-(5-2))))\n",
      "((((3-9-6)*6/3-2))+((3-3-1-4)))\n",
      "((7-2*7-8/4-6-2))-1-7/5-(7/4-5)\n",
      "9/(8-2-9/5-9-5)-2/3-5-6-2+5-5+1\n",
      "(9*2-3-(2+5+(2-2)*((2*9*2-7))))\n",
      "(8*9+(5-6))*(6/7-6*5-((7-9-6)))\n",
      "((5-8+3*(9+(8+8))))-(7/5/6)*8+7\n",
      "(7*3+4-6)*8-8-2/3+4-2-1-3-4/1*4\n",
      "9-3/2-7-4/1/7+5+8-4-4/6-5-6-9-5\n",
      "6-3*3/5-5-((((1-7-(8-1)*8*8))))\n",
      "((((2*2)))/4-3-2)-(6+7-(5-3-5))\n",
      "(9*1*8-9*4*8*8-((2-3*6-(2-1))))\n",
      "((5-3))-(((8+6*8-(6-1)))-8+6*1)\n",
      "3-8-(3*6)/2+2+1+((3-3+6-4)-1+4)\n",
      "(((((1+8-6-9+(7*2-2-6))))))*5-4\n",
      "3/9+7-(((1-(3-1)))-8*9)-(6*8-3)\n",
      "(((5-5*7-1-7+4-(2*7))-5*2*9+2))\n",
      "2*1+2/5-3+(9-5)+9*7-7-(1-(6*3))\n",
      "(7*1-5-8*((5-4))-1*8/8+9/1-4-2)\n",
      "3-8-(4*9-4-3+4/1+(6-4))*(5*2*4)\n",
      "6-7+4-7-(((2*7-9)-5/9)-2+1+3-5)\n",
      "((1*5)-6-(3-9)+5-4-(6+3)-(1-3))\n",
      "(3/3*5+8+4*1*6-6)-6-8*(2-8)/9-5\n",
      "(1-8-9)-5+6/8-9-3*1-3-4-9-5-1+8\n",
      "(1-2)-3*5-8-8-2*7+5/((3*3))-4+9\n",
      "(9*1-8-7*9)+6-3-((8-6-3/2-3/4))\n",
      "6+9-7/(7-8*7)-1-6-5-4-8/7-1-9*4\n",
      "((3-2)/((1-1)-2-6*2-5)*(8*5-6))\n",
      "(4-5)-9*9/(3*7-(9-(7-1)/2-7-9))\n",
      "((((((3-5/8-(8-9-2-6+3-5)))))))\n",
      "(((3-1)))-8-(5/8*1-1-4-9)/7*4*2\n",
      "3-5*5*1*6+9-(6+6-2+((4-4)))-1-9\n",
      "(5-3-4+7+1/2-(2*2-1-4-2)+3-2-1)\n",
      "(((3/(7-9/4)*6-2*4+9*4*8))-6+5)\n",
      "4*((((7-1-5)-2*4)))-(3+4-4-5-8)\n",
      "(9-((1-4/7-8-8-5))-7-3/6-3-3-2)\n",
      "((2-3+(2+8/(6/2)))+6-6-2/(5*4))\n",
      "((((4+6))-6/1-1-3+7/9-8)-(9-2))\n",
      "(((4+1/1-(3-6-9-7))+(6+(6-7))))\n",
      "(((6-(7-4-4)))/6*7+((3/1)/6+5))\n",
      "(3-2/5/7*4+6*2-2*(9-1*7)*9+8-5)\n",
      "((((2*8*2/4))))+(7+1-5-7+6)-5-8\n",
      "(((4-5-4*5/3)))+5-5-7-2-9*6*1-9\n",
      "((((3-4+3-7-7+(6-9/6-2-7-3)))))\n"
     ]
    }
   ],
   "source": [
    "data = generate_biased_data()"
   ]
  },
  {
   "cell_type": "code",
   "execution_count": 7,
   "id": "5d8b49be",
   "metadata": {},
   "outputs": [],
   "source": [
    "def stats(X, y, pred):\n",
    "    tp, tn, fp, fn = 0, 0, 0, 0\n",
    "    fp_expr, fn_expr = [], []\n",
    "    for i in range(len(y)):\n",
    "        if pred[i] == 1:\n",
    "            if pred[i] == y[i]:\n",
    "                tp += 1\n",
    "            else:\n",
    "                fp += 1\n",
    "                fp_expr.append(decoder(X[i]))\n",
    "        else:\n",
    "            if pred[i] == y[i]:\n",
    "                tn += 1\n",
    "            else:\n",
    "                fn += 1\n",
    "                fn_expr.append(decoder(X[i]))\n",
    "    cf_matrix = np.array([[tn, fp], [fn, tp]])\n",
    "    return cf_matrix, fp_expr, fn_expr"
   ]
  },
  {
   "cell_type": "code",
   "execution_count": null,
   "id": "5890eb1c",
   "metadata": {},
   "outputs": [],
   "source": []
  },
  {
   "cell_type": "code",
   "execution_count": 8,
   "id": "4a5f7513",
   "metadata": {},
   "outputs": [],
   "source": [
    "def getStats(modeltype, data):\n",
    "    \n",
    "    mydataloader = DataLoader(data, batch_size=len(data))\n",
    "    for feats, labels in mydataloader:\n",
    "        X = feats.to(device).float()\n",
    "        y = labels.to(device).float()\n",
    "    try:\n",
    "        name = modeltype.__name__\n",
    "    except:\n",
    "        name = 'mlmodel'\n",
    "    state = torch.load(f\"{name}.pth\")\n",
    "    if name == 'basemodel':\n",
    "        print('this works')\n",
    "        model = basemodel.NeuralNetwork().to(modeltype.device)\n",
    "        model.load_state_dict(state)\n",
    "        model.eval()\n",
    "        with torch.no_grad():\n",
    "            pred, hidden = model(X)\n",
    "    elif name == 'naivemodel':\n",
    "        model = naivemodel.NeuralNetwork().to(modeltype.device)\n",
    "        model.load_state_dict(state)\n",
    "        model.eval()\n",
    "        with torch.no_grad():\n",
    "            pred = model(X)\n",
    "    elif name == 'deqmodel':\n",
    "        model = deqmodel.NeuralNetwork().to(modeltype.device)\n",
    "        model.load_state_dict(state)\n",
    "        model.eval()\n",
    "        with torch.no_grad():\n",
    "            pred = model(X)\n",
    "    else:\n",
    "        model = basemodel.NeuralNetwork(num_layers = 3).to(basemodel.device)\n",
    "        model.load_state_dict(state)\n",
    "        model.eval()\n",
    "        with torch.no_grad():\n",
    "            pred, hidden = model(X)\n",
    "        \n",
    "               \n",
    "    bool_arr = pred > 0\n",
    "    prediction = torch.Tensor([1 if x else 0 for x in bool_arr]).to(device)\n",
    "    return stats(X,y, prediction)\n"
   ]
  },
  {
   "cell_type": "code",
   "execution_count": 9,
   "id": "80165504",
   "metadata": {},
   "outputs": [],
   "source": [
    "cf_matrix, fpx, fnx = getStats(\"mlmodel\", data)\n",
    "cf_matrix1, fpx1, fnx1 = getStats(\"basemodel\", data)\n",
    "cf_matrix2, fpx2, fnx2 = getStats(\"deqmodel\", data)\n",
    "cf_matrix3, fpx3, fnx3 = getStats(\"naivemodel\", data)"
   ]
  },
  {
   "cell_type": "code",
   "execution_count": 10,
   "id": "cc4e2382",
   "metadata": {},
   "outputs": [],
   "source": [
    "def getMetric(cf):\n",
    "    precision = cf[1,1]/(cf[1,1] + cf[0,1])\n",
    "    recall = cf[1,1]/(cf[1,1] + cf[1,0])\n",
    "    return precision, recall"
   ]
  },
  {
   "cell_type": "code",
   "execution_count": 11,
   "id": "67027c13",
   "metadata": {},
   "outputs": [],
   "source": [
    "def plot_confusion_matrix(cf_matrix, title):\n",
    "    ax = sns.heatmap(cf_matrix, annot=True, cmap='Blues')\n",
    "    ax.set_title(title);\n",
    "    ax.set_xlabel('Predicted Values')\n",
    "    ax.set_ylabel('Actual Values ');\n",
    "\n",
    "    ## Ticket labels - List must be in alphabetical order\n",
    "    ax.xaxis.set_ticklabels(['False','True'])\n",
    "    ax.yaxis.set_ticklabels(['False','True'])\n",
    "\n",
    "    ## Display the visualization of the Confusion Matrix.\n",
    "    plt.show()"
   ]
  },
  {
   "cell_type": "code",
   "execution_count": 12,
   "id": "ca540b5e",
   "metadata": {},
   "outputs": [
    {
     "data": {
      "image/png": "[encoded data removed]",
      "text/plain": [
       "<Figure size 432x288 with 2 Axes>"
      ]
     },
     "metadata": {
      "needs_background": "light"
     },
     "output_type": "display_data"
    },
    {
     "name": "stdout",
     "output_type": "stream",
     "text": [
      "0.8679549114331723 0.7796528447444552\n"
     ]
    }
   ],
   "source": [
    "plot_confusion_matrix(cf_matrix, \"Multi_Layer Confusion Matrix\")\n",
    "precision, recall = getMetric(cf_matrix)\n",
    "print(precision, recall)"
   ]
  },
  {
   "cell_type": "code",
   "execution_count": 15,
   "id": "4ac9476e",
   "metadata": {},
   "outputs": [
    {
     "data": {
      "image/png": "[encoded data removed]",
      "text/plain": [
       "<Figure size 432x288 with 2 Axes>"
      ]
     },
     "metadata": {
      "needs_background": "light"
     },
     "output_type": "display_data"
    },
    {
     "name": "stdout",
     "output_type": "stream",
     "text": [
      "0.8679549114331723 0.7796528447444552\n"
     ]
    }
   ],
   "source": [
    "plot_confusion_matrix(cf_matrix1, \"Basemodel Confusion Matrix\")\n",
    "precision1, recall1 = getMetric(cf_matrix1)\n",
    "print(precision1, recall1)"
   ]
  },
  {
   "cell_type": "code",
   "execution_count": 16,
   "id": "e0fdb2cb",
   "metadata": {},
   "outputs": [
    {
     "data": {
      "image/png": "[encoded data removed]",
      "text/plain": [
       "<Figure size 432x288 with 2 Axes>"
      ]
     },
     "metadata": {
      "needs_background": "light"
     },
     "output_type": "display_data"
    },
    {
     "name": "stdout",
     "output_type": "stream",
     "text": [
      "0.8679549114331723 0.7796528447444552\n"
     ]
    }
   ],
   "source": [
    "plot_confusion_matrix(cf_matrix2, \"DEQ Confusion Matrix\")\n",
    "precision, recall = getMetric(cf_matrix2)\n",
    "print(precision, recall)"
   ]
  },
  {
   "cell_type": "code",
   "execution_count": 17,
   "id": "acd462e7",
   "metadata": {},
   "outputs": [
    {
     "data": {
      "image/png": "[encoded data removed]",
      "text/plain": [
       "<Figure size 432x288 with 2 Axes>"
      ]
     },
     "metadata": {
      "needs_background": "light"
     },
     "output_type": "display_data"
    },
    {
     "name": "stdout",
     "output_type": "stream",
     "text": [
      "0.8679549114331723 0.7796528447444552\n"
     ]
    }
   ],
   "source": [
    "plot_confusion_matrix(cf_matrix3, \"Naive Confusion Matrix\")\n",
    "precision, recall = getMetric(cf_matrix3)\n",
    "print(precision, recall)"
   ]
  },
  {
   "cell_type": "code",
   "execution_count": null,
   "id": "9579aee1",
   "metadata": {},
   "outputs": [],
   "source": []
  }
 ],
 "metadata": {
  "kernelspec": {
   "display_name": "Python [conda env:py38]",
   "language": "python",
   "name": "conda-env-py38-py"
  },
  "language_info": {
   "codemirror_mode": {
    "name": "ipython",
    "version": 3
   },
   "file_extension": ".py",
   "mimetype": "text/x-python",
   "name": "python",
   "nbconvert_exporter": "python",
   "pygments_lexer": "ipython3",
   "version": "3.8.13"
  }
 },
 "nbformat": 4,
 "nbformat_minor": 5
}
